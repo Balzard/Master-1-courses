{
 "cells": [
  {
   "cell_type": "markdown",
   "metadata": {},
   "source": [
    "# Data preparation"
   ]
  },
  {
   "cell_type": "markdown",
   "metadata": {},
   "source": [
    "Importing data. Useful cheatsheet : https://www.datacamp.com/community/blog/importing-data-python-cheat-sheet"
   ]
  },
  {
   "cell_type": "markdown",
   "metadata": {},
   "source": [
    "### Working with text files : import txt, output txt, json file line by line, etc.."
   ]
  },
  {
   "cell_type": "markdown",
   "metadata": {},
   "source": [
    "We shall use as an example the address speech of Melania Trump on the Republican National Convention. Available from many sources, for example: https://www.news24.com/World/News/read-what-melania-trump-said-20160719 \n",
    "\n",
    "You can input the whole chuck of a text into memory."
   ]
  },
  {
   "cell_type": "code",
   "execution_count": 2,
   "metadata": {},
   "outputs": [
    {
     "data": {
      "text/plain": [
       "'Thank you very much. Thank you. You have all been very kind to Donald and me, to our young son Barro'"
      ]
     },
     "execution_count": 2,
     "metadata": {},
     "output_type": "execute_result"
    }
   ],
   "source": [
    "txt_filename = \"./data/Melania_Trump.txt\"\n",
    "\n",
    "text = []\n",
    "with open(txt_filename, \"r\") as input_f:\n",
    "    text = input_f.read()\n",
    "        \n",
    "text[:100]"
   ]
  },
  {
   "cell_type": "markdown",
   "metadata": {},
   "source": [
    "In order to analyse the text by paragraphs, we need to single them out. "
   ]
  },
  {
   "cell_type": "code",
   "execution_count": 3,
   "metadata": {},
   "outputs": [
    {
     "data": {
      "text/plain": [
       "\"Thank you very much. Thank you. You have all been very kind to Donald and me, to our young son Barron, and to our whole family. It’s a very nice welcome and we're excited to be with you at this historic convention. I am so proud of your choice for president of the United States, my husband, Donald J. Trump.\""
      ]
     },
     "execution_count": 3,
     "metadata": {},
     "output_type": "execute_result"
    }
   ],
   "source": [
    "paragraphs = text.split(\"\\n\")\n",
    "paragraphs[0]"
   ]
  },
  {
   "cell_type": "markdown",
   "metadata": {},
   "source": [
    "Input of the text file can be done via importing the text line by line, where line is a chuck of text ending with the \"enter\" sign `\\n`. "
   ]
  },
  {
   "cell_type": "code",
   "execution_count": 4,
   "metadata": {},
   "outputs": [
    {
     "data": {
      "text/plain": [
       "\"Thank you very much. Thank you. You have all been very kind to Donald and me, to our young son Barron, and to our whole family. It’s a very nice welcome and we're excited to be with you at this historic convention. I am so proud of your choice for president of the United States, my husband, Donald J. Trump.\\n\""
      ]
     },
     "execution_count": 4,
     "metadata": {},
     "output_type": "execute_result"
    }
   ],
   "source": [
    "txt_filename = \"./data/Melania_Trump.txt\"\n",
    "\n",
    "text = []\n",
    "with open(txt_filename, \"r\") as input_f:\n",
    "    for line in input_f:\n",
    "        text.append(line)\n",
    "text[0]"
   ]
  },
  {
   "cell_type": "markdown",
   "metadata": {},
   "source": [
    "However, extracting sentences is not straightforward."
   ]
  },
  {
   "cell_type": "code",
   "execution_count": 5,
   "metadata": {},
   "outputs": [
    {
     "name": "stdout",
     "output_type": "stream",
     "text": [
      "Thank you very much\n",
      "-----\n",
      "Thank you\n",
      "-----\n",
      "You have all been very kind to Donald and me, to our young son Barron, and to our whole family\n",
      "-----\n",
      "It’s a very nice welcome and we're excited to be with you at this historic convention\n",
      "-----\n",
      "I am so proud of your choice for president of the United States, my husband, Donald J\n",
      "-----\n",
      "Trump.\n",
      "\n",
      "And I can assure you, he is moved by this great honor\n",
      "-----\n",
      "The 2016 Republican primaries were fierce and started with many candidates, 17 to be exact, and I know that Donald agrees with me when I mention how talented all of them are\n",
      "-----\n",
      "They deserve respect and gratitude from all of us.\n",
      "\n",
      "However, when it comes to my husband, I will say that I am definitely biased, and for good reason.\n",
      "\n",
      "I have been with Donald for 18 years and I have been aware of his love for this country since we first met\n",
      "-----\n",
      "He never had a hidden agenda when it comes to his patriotism, because, like me, he loves this country so much\n",
      "-----\n",
      "I was born in Slovenia, a small, beautiful and then communist country in Central Europe\n"
     ]
    }
   ],
   "source": [
    "txt_filename = \"./data/Melania_Trump.txt\"\n",
    "\n",
    "text = []\n",
    "with open(txt_filename, \"r\") as input_f:\n",
    "    text = input_f.read()\n",
    "\n",
    "sentences = text.split(\". \")\n",
    "print('\\n-----\\n'.join(sentences[:10]))"
   ]
  },
  {
   "cell_type": "markdown",
   "metadata": {},
   "source": [
    "## Powerful tool to work with text: `nltk` module https://www.nltk.org.\n",
    "\n",
    "Use it now to extract sentences from text."
   ]
  },
  {
   "cell_type": "markdown",
   "metadata": {},
   "source": [
    "Install command from terminal `conda install -c anaconda nltk`"
   ]
  },
  {
   "cell_type": "code",
   "execution_count": 6,
   "metadata": {},
   "outputs": [
    {
     "name": "stderr",
     "output_type": "stream",
     "text": [
      "[nltk_data] Downloading package punkt to /Users/amedvede/nltk_data...\n",
      "[nltk_data]   Package punkt is already up-to-date!\n"
     ]
    },
    {
     "data": {
      "text/plain": [
       "True"
      ]
     },
     "execution_count": 6,
     "metadata": {},
     "output_type": "execute_result"
    }
   ],
   "source": [
    "import nltk \n",
    "nltk.download('punkt')"
   ]
  },
  {
   "cell_type": "code",
   "execution_count": 7,
   "metadata": {},
   "outputs": [],
   "source": [
    "txt_filename = \"./data/Melania_Trump.txt\"\n",
    "\n",
    "text = []\n",
    "with open(txt_filename, \"r\") as input_f:\n",
    "    text = input_f.read()\n",
    "        \n",
    "sent_detector = nltk.data.load('tokenizers/punkt/english.pickle')"
   ]
  },
  {
   "cell_type": "code",
   "execution_count": 8,
   "metadata": {},
   "outputs": [
    {
     "name": "stdout",
     "output_type": "stream",
     "text": [
      "Thank you very much.\n",
      "-----\n",
      "Thank you.\n",
      "-----\n",
      "You have all been very kind to Donald and me, to our young son Barron, and to our whole family.\n",
      "-----\n",
      "It’s a very nice welcome and we're excited to be with you at this historic convention.\n",
      "-----\n",
      "I am so proud of your choice for president of the United States, my husband, Donald J. Trump.\n",
      "-----\n",
      "And I can assure you, he is moved by this great honor.\n",
      "-----\n",
      "The 2016 Republican primaries were fierce and started with many candidates, 17 to be exact, and I know that Donald agrees with me when I mention how talented all of them are.\n",
      "-----\n",
      "They deserve respect and gratitude from all of us.\n",
      "-----\n",
      "However, when it comes to my husband, I will say that I am definitely biased, and for good reason.\n",
      "-----\n",
      "I have been with Donald for 18 years and I have been aware of his love for this country since we first met.\n"
     ]
    }
   ],
   "source": [
    "sentences = sent_detector.tokenize(text.strip())\n",
    "print('\\n-----\\n'.join(sentences[:10]))"
   ]
  },
  {
   "cell_type": "markdown",
   "metadata": {},
   "source": [
    "### Working with str data: regex, string functions"
   ]
  },
  {
   "cell_type": "markdown",
   "metadata": {},
   "source": [
    "Regular expressions help to find meaningful patterns in text data. It is however rather complicated to grasp. See documentation https://docs.python.org/3/library/re.html\n",
    "\n",
    "Below we use the regex to search for proper names in the sentence."
   ]
  },
  {
   "cell_type": "code",
   "execution_count": 9,
   "metadata": {},
   "outputs": [
    {
     "data": {
      "text/plain": [
       "['Donald', 'Barron']"
      ]
     },
     "execution_count": 9,
     "metadata": {},
     "output_type": "execute_result"
    }
   ],
   "source": [
    "import re \n",
    "\n",
    "s = sentences[2]\n",
    "re.findall(\"(?<!^)(?<!\\. )[A-Z][a-z]+\", s)"
   ]
  },
  {
   "cell_type": "code",
   "execution_count": 10,
   "metadata": {},
   "outputs": [
    {
     "name": "stdout",
     "output_type": "stream",
     "text": [
      "['You', 'have', 'all', 'been', 'very', 'kind', 'to', 'Donald', 'and', 'me,', 'to', 'our', 'young', 'son', 'Barron,', 'and', 'to', 'our', 'whole', 'family.']\n"
     ]
    }
   ],
   "source": [
    "print(s.split(\" \"))"
   ]
  },
  {
   "cell_type": "markdown",
   "metadata": {},
   "source": [
    "Strings can be split, formatted, joined.. More info in the docs:  https://docs.python.org/3.7/library/string.html"
   ]
  },
  {
   "cell_type": "code",
   "execution_count": 14,
   "metadata": {},
   "outputs": [
    {
     "data": {
      "text/plain": [
       "'I am 18 years old, sell me that feefwe please'"
      ]
     },
     "execution_count": 14,
     "metadata": {},
     "output_type": "execute_result"
    }
   ],
   "source": [
    "\"I am {} years old, sell me that {} please\".format(18, \"phone\")\n",
    "s = \"feefwe\"\n",
    "f\"I am {18} years old, sell me that {s} please\""
   ]
  },
  {
   "cell_type": "code",
   "execution_count": null,
   "metadata": {},
   "outputs": [],
   "source": [
    "just_words = ['You', 'have', 'all', 'been', 'very', 'kind', 'to', 'Donald', \n",
    "              'and', 'me', 'to', 'our', 'young', 'son', 'Barron', 'and', \n",
    "              'to', 'our', 'whole', 'family.']\n",
    "\"-\".join(just_words)"
   ]
  },
  {
   "cell_type": "markdown",
   "metadata": {},
   "source": [
    "***"
   ]
  },
  {
   "cell_type": "markdown",
   "metadata": {},
   "source": [
    "# Table data (csv) and Pandas dataframes"
   ]
  },
  {
   "cell_type": "markdown",
   "metadata": {},
   "source": [
    "Reddit database of all posts and comments is available here: https://files.pushshift.io/reddit/. Here we use a preprocessed version of posts from Feb 2008 saved as a .csv file.\n",
    "\n",
    "Databases : pandas - access a row, item, column, for loop, filtering, a"
   ]
  },
  {
   "cell_type": "code",
   "execution_count": 15,
   "metadata": {},
   "outputs": [],
   "source": [
    "import pandas as pd\n",
    "pd_file = \"./data/reddit_posts_02_2008.csv\""
   ]
  },
  {
   "cell_type": "code",
   "execution_count": 16,
   "metadata": {},
   "outputs": [
    {
     "data": {
      "text/html": [
       "<div>\n",
       "<style scoped>\n",
       "    .dataframe tbody tr th:only-of-type {\n",
       "        vertical-align: middle;\n",
       "    }\n",
       "\n",
       "    .dataframe tbody tr th {\n",
       "        vertical-align: top;\n",
       "    }\n",
       "\n",
       "    .dataframe thead th {\n",
       "        text-align: right;\n",
       "    }\n",
       "</style>\n",
       "<table border=\"1\" class=\"dataframe\">\n",
       "  <thead>\n",
       "    <tr style=\"text-align: right;\">\n",
       "      <th></th>\n",
       "      <th>created_utc</th>\n",
       "      <th>author</th>\n",
       "      <th>num_comments</th>\n",
       "      <th>ups</th>\n",
       "      <th>downs</th>\n",
       "      <th>title</th>\n",
       "    </tr>\n",
       "  </thead>\n",
       "  <tbody>\n",
       "    <tr>\n",
       "      <td>0</td>\n",
       "      <td>2008-02-02 04:58:53</td>\n",
       "      <td>plun9</td>\n",
       "      <td>0</td>\n",
       "      <td>3</td>\n",
       "      <td>2</td>\n",
       "      <td>Dining In The Dark</td>\n",
       "    </tr>\n",
       "    <tr>\n",
       "      <td>1</td>\n",
       "      <td>2008-02-02 04:58:20</td>\n",
       "      <td>bookmarksonline</td>\n",
       "      <td>1</td>\n",
       "      <td>1</td>\n",
       "      <td>1</td>\n",
       "      <td>Webhost Hostgator</td>\n",
       "    </tr>\n",
       "    <tr>\n",
       "      <td>2</td>\n",
       "      <td>2008-02-02 04:56:45</td>\n",
       "      <td>andhika</td>\n",
       "      <td>1</td>\n",
       "      <td>1</td>\n",
       "      <td>0</td>\n",
       "      <td>Dream Interpretation</td>\n",
       "    </tr>\n",
       "    <tr>\n",
       "      <td>3</td>\n",
       "      <td>2008-02-02 04:55:53</td>\n",
       "      <td>akilmartin</td>\n",
       "      <td>0</td>\n",
       "      <td>1</td>\n",
       "      <td>1</td>\n",
       "      <td>Turn Your Cap Backwards and Let Your Butt-Crac...</td>\n",
       "    </tr>\n",
       "    <tr>\n",
       "      <td>4</td>\n",
       "      <td>2008-02-02 04:55:29</td>\n",
       "      <td>ScrewDriver</td>\n",
       "      <td>0</td>\n",
       "      <td>5</td>\n",
       "      <td>0</td>\n",
       "      <td>Those Disgusting Tapeworms</td>\n",
       "    </tr>\n",
       "  </tbody>\n",
       "</table>\n",
       "</div>"
      ],
      "text/plain": [
       "          created_utc           author  num_comments  ups  downs  \\\n",
       "0 2008-02-02 04:58:53            plun9             0    3      2   \n",
       "1 2008-02-02 04:58:20  bookmarksonline             1    1      1   \n",
       "2 2008-02-02 04:56:45          andhika             1    1      0   \n",
       "3 2008-02-02 04:55:53       akilmartin             0    1      1   \n",
       "4 2008-02-02 04:55:29      ScrewDriver             0    5      0   \n",
       "\n",
       "                                               title  \n",
       "0                                 Dining In The Dark  \n",
       "1                                  Webhost Hostgator  \n",
       "2                               Dream Interpretation  \n",
       "3  Turn Your Cap Backwards and Let Your Butt-Crac...  \n",
       "4                         Those Disgusting Tapeworms  "
      ]
     },
     "execution_count": 16,
     "metadata": {},
     "output_type": "execute_result"
    }
   ],
   "source": [
    "# Import the csv file into the pandas DataFrame\n",
    "reddit_posts_df = pd.read_csv(pd_file, index_col = 0, \n",
    "                              parse_dates=['created_utc'])\n",
    "reddit_posts_df[:5]"
   ]
  },
  {
   "cell_type": "code",
   "execution_count": 17,
   "metadata": {},
   "outputs": [
    {
     "data": {
      "text/html": [
       "<div>\n",
       "<style scoped>\n",
       "    .dataframe tbody tr th:only-of-type {\n",
       "        vertical-align: middle;\n",
       "    }\n",
       "\n",
       "    .dataframe tbody tr th {\n",
       "        vertical-align: top;\n",
       "    }\n",
       "\n",
       "    .dataframe thead th {\n",
       "        text-align: right;\n",
       "    }\n",
       "</style>\n",
       "<table border=\"1\" class=\"dataframe\">\n",
       "  <thead>\n",
       "    <tr style=\"text-align: right;\">\n",
       "      <th></th>\n",
       "      <th>created_utc</th>\n",
       "      <th>author</th>\n",
       "      <th>num_comments</th>\n",
       "      <th>ups</th>\n",
       "      <th>downs</th>\n",
       "      <th>title</th>\n",
       "    </tr>\n",
       "  </thead>\n",
       "  <tbody>\n",
       "    <tr>\n",
       "      <td>4194</td>\n",
       "      <td>2008-02-01 05:00:30</td>\n",
       "      <td>jimgagnon</td>\n",
       "      <td>0</td>\n",
       "      <td>1</td>\n",
       "      <td>2</td>\n",
       "      <td>New Evidence Emerges in Natalee Holloway Case ...</td>\n",
       "    </tr>\n",
       "    <tr>\n",
       "      <td>4193</td>\n",
       "      <td>2008-02-01 05:01:11</td>\n",
       "      <td>tulwave</td>\n",
       "      <td>0</td>\n",
       "      <td>1</td>\n",
       "      <td>1</td>\n",
       "      <td>Britney's Mum Speaks Out About Family Troubles</td>\n",
       "    </tr>\n",
       "    <tr>\n",
       "      <td>4192</td>\n",
       "      <td>2008-02-01 05:02:46</td>\n",
       "      <td>orlando37</td>\n",
       "      <td>1</td>\n",
       "      <td>1</td>\n",
       "      <td>1</td>\n",
       "      <td>Get in her pants : Start Manscraping</td>\n",
       "    </tr>\n",
       "    <tr>\n",
       "      <td>4191</td>\n",
       "      <td>2008-02-01 05:03:37</td>\n",
       "      <td>rdbb</td>\n",
       "      <td>0</td>\n",
       "      <td>1</td>\n",
       "      <td>0</td>\n",
       "      <td>Worlds Best Taco Shop Style Hot Sauce</td>\n",
       "    </tr>\n",
       "    <tr>\n",
       "      <td>4190</td>\n",
       "      <td>2008-02-01 05:03:39</td>\n",
       "      <td>fashiononline</td>\n",
       "      <td>1</td>\n",
       "      <td>1</td>\n",
       "      <td>1</td>\n",
       "      <td>Twinkle Toes Kolhapuri Footwear</td>\n",
       "    </tr>\n",
       "  </tbody>\n",
       "</table>\n",
       "</div>"
      ],
      "text/plain": [
       "             created_utc         author  num_comments  ups  downs  \\\n",
       "4194 2008-02-01 05:00:30      jimgagnon             0    1      2   \n",
       "4193 2008-02-01 05:01:11        tulwave             0    1      1   \n",
       "4192 2008-02-01 05:02:46      orlando37             1    1      1   \n",
       "4191 2008-02-01 05:03:37           rdbb             0    1      0   \n",
       "4190 2008-02-01 05:03:39  fashiononline             1    1      1   \n",
       "\n",
       "                                                  title  \n",
       "4194  New Evidence Emerges in Natalee Holloway Case ...  \n",
       "4193     Britney's Mum Speaks Out About Family Troubles  \n",
       "4192               Get in her pants : Start Manscraping  \n",
       "4191              Worlds Best Taco Shop Style Hot Sauce  \n",
       "4190                    Twinkle Toes Kolhapuri Footwear  "
      ]
     },
     "execution_count": 17,
     "metadata": {},
     "output_type": "execute_result"
    }
   ],
   "source": [
    "# sort by a column\n",
    "reddit_posts_df = reddit_posts_df.sort_values(\"created_utc\")\n",
    "reddit_posts_df[:5]"
   ]
  },
  {
   "cell_type": "code",
   "execution_count": 18,
   "metadata": {},
   "outputs": [
    {
     "data": {
      "text/html": [
       "<div>\n",
       "<style scoped>\n",
       "    .dataframe tbody tr th:only-of-type {\n",
       "        vertical-align: middle;\n",
       "    }\n",
       "\n",
       "    .dataframe tbody tr th {\n",
       "        vertical-align: top;\n",
       "    }\n",
       "\n",
       "    .dataframe thead th {\n",
       "        text-align: right;\n",
       "    }\n",
       "</style>\n",
       "<table border=\"1\" class=\"dataframe\">\n",
       "  <thead>\n",
       "    <tr style=\"text-align: right;\">\n",
       "      <th></th>\n",
       "      <th>created_utc</th>\n",
       "      <th>author</th>\n",
       "      <th>num_comments</th>\n",
       "      <th>ups</th>\n",
       "      <th>downs</th>\n",
       "      <th>title</th>\n",
       "    </tr>\n",
       "  </thead>\n",
       "  <tbody>\n",
       "    <tr>\n",
       "      <td>0</td>\n",
       "      <td>2008-02-01 05:00:30</td>\n",
       "      <td>jimgagnon</td>\n",
       "      <td>0</td>\n",
       "      <td>1</td>\n",
       "      <td>2</td>\n",
       "      <td>New Evidence Emerges in Natalee Holloway Case ...</td>\n",
       "    </tr>\n",
       "    <tr>\n",
       "      <td>1</td>\n",
       "      <td>2008-02-01 05:01:11</td>\n",
       "      <td>tulwave</td>\n",
       "      <td>0</td>\n",
       "      <td>1</td>\n",
       "      <td>1</td>\n",
       "      <td>Britney's Mum Speaks Out About Family Troubles</td>\n",
       "    </tr>\n",
       "    <tr>\n",
       "      <td>2</td>\n",
       "      <td>2008-02-01 05:02:46</td>\n",
       "      <td>orlando37</td>\n",
       "      <td>1</td>\n",
       "      <td>1</td>\n",
       "      <td>1</td>\n",
       "      <td>Get in her pants : Start Manscraping</td>\n",
       "    </tr>\n",
       "    <tr>\n",
       "      <td>3</td>\n",
       "      <td>2008-02-01 05:03:37</td>\n",
       "      <td>rdbb</td>\n",
       "      <td>0</td>\n",
       "      <td>1</td>\n",
       "      <td>0</td>\n",
       "      <td>Worlds Best Taco Shop Style Hot Sauce</td>\n",
       "    </tr>\n",
       "    <tr>\n",
       "      <td>4</td>\n",
       "      <td>2008-02-01 05:03:39</td>\n",
       "      <td>fashiononline</td>\n",
       "      <td>1</td>\n",
       "      <td>1</td>\n",
       "      <td>1</td>\n",
       "      <td>Twinkle Toes Kolhapuri Footwear</td>\n",
       "    </tr>\n",
       "  </tbody>\n",
       "</table>\n",
       "</div>"
      ],
      "text/plain": [
       "          created_utc         author  num_comments  ups  downs  \\\n",
       "0 2008-02-01 05:00:30      jimgagnon             0    1      2   \n",
       "1 2008-02-01 05:01:11        tulwave             0    1      1   \n",
       "2 2008-02-01 05:02:46      orlando37             1    1      1   \n",
       "3 2008-02-01 05:03:37           rdbb             0    1      0   \n",
       "4 2008-02-01 05:03:39  fashiononline             1    1      1   \n",
       "\n",
       "                                               title  \n",
       "0  New Evidence Emerges in Natalee Holloway Case ...  \n",
       "1     Britney's Mum Speaks Out About Family Troubles  \n",
       "2               Get in her pants : Start Manscraping  \n",
       "3              Worlds Best Taco Shop Style Hot Sauce  \n",
       "4                    Twinkle Toes Kolhapuri Footwear  "
      ]
     },
     "execution_count": 18,
     "metadata": {},
     "output_type": "execute_result"
    }
   ],
   "source": [
    "# reset index of the DataFrame\n",
    "reddit_posts_df.reset_index(inplace= True, drop = True)\n",
    "reddit_posts_df[:5]"
   ]
  },
  {
   "cell_type": "code",
   "execution_count": 19,
   "metadata": {},
   "outputs": [
    {
     "data": {
      "text/html": [
       "<div>\n",
       "<style scoped>\n",
       "    .dataframe tbody tr th:only-of-type {\n",
       "        vertical-align: middle;\n",
       "    }\n",
       "\n",
       "    .dataframe tbody tr th {\n",
       "        vertical-align: top;\n",
       "    }\n",
       "\n",
       "    .dataframe thead th {\n",
       "        text-align: right;\n",
       "    }\n",
       "</style>\n",
       "<table border=\"1\" class=\"dataframe\">\n",
       "  <thead>\n",
       "    <tr style=\"text-align: right;\">\n",
       "      <th></th>\n",
       "      <th>created_utc</th>\n",
       "      <th>author</th>\n",
       "      <th>num_comments</th>\n",
       "      <th>ups</th>\n",
       "      <th>downs</th>\n",
       "      <th>title</th>\n",
       "    </tr>\n",
       "  </thead>\n",
       "  <tbody>\n",
       "    <tr>\n",
       "      <td>17</td>\n",
       "      <td>2008-02-01 05:09:09</td>\n",
       "      <td>xelfer</td>\n",
       "      <td>186</td>\n",
       "      <td>1115</td>\n",
       "      <td>457</td>\n",
       "      <td>xkcd: Real Programmers</td>\n",
       "    </tr>\n",
       "    <tr>\n",
       "      <td>427</td>\n",
       "      <td>2008-02-01 07:56:44</td>\n",
       "      <td>UncleOxidant</td>\n",
       "      <td>155</td>\n",
       "      <td>447</td>\n",
       "      <td>119</td>\n",
       "      <td>Simply put, the U.S. banking system has no res...</td>\n",
       "    </tr>\n",
       "    <tr>\n",
       "      <td>813</td>\n",
       "      <td>2008-02-01 10:41:56</td>\n",
       "      <td>shivermetimberslads</td>\n",
       "      <td>437</td>\n",
       "      <td>1151</td>\n",
       "      <td>565</td>\n",
       "      <td>1 Girl, 6 Soldiers [pic]</td>\n",
       "    </tr>\n",
       "    <tr>\n",
       "      <td>901</td>\n",
       "      <td>2008-02-01 11:12:14</td>\n",
       "      <td>antirez</td>\n",
       "      <td>110</td>\n",
       "      <td>73</td>\n",
       "      <td>51</td>\n",
       "      <td>Ask reddit: how do you handle out of memory co...</td>\n",
       "    </tr>\n",
       "    <tr>\n",
       "      <td>938</td>\n",
       "      <td>2008-02-01 11:26:43</td>\n",
       "      <td>prestigearticle</td>\n",
       "      <td>112</td>\n",
       "      <td>333</td>\n",
       "      <td>139</td>\n",
       "      <td>Female suicide bombers kill dozens in Baghdad ...</td>\n",
       "    </tr>\n",
       "  </tbody>\n",
       "</table>\n",
       "</div>"
      ],
      "text/plain": [
       "            created_utc               author  num_comments   ups  downs  \\\n",
       "17  2008-02-01 05:09:09               xelfer           186  1115    457   \n",
       "427 2008-02-01 07:56:44         UncleOxidant           155   447    119   \n",
       "813 2008-02-01 10:41:56  shivermetimberslads           437  1151    565   \n",
       "901 2008-02-01 11:12:14              antirez           110    73     51   \n",
       "938 2008-02-01 11:26:43      prestigearticle           112   333    139   \n",
       "\n",
       "                                                 title  \n",
       "17                              xkcd: Real Programmers  \n",
       "427  Simply put, the U.S. banking system has no res...  \n",
       "813                           1 Girl, 6 Soldiers [pic]  \n",
       "901  Ask reddit: how do you handle out of memory co...  \n",
       "938  Female suicide bombers kill dozens in Baghdad ...  "
      ]
     },
     "execution_count": 19,
     "metadata": {},
     "output_type": "execute_result"
    }
   ],
   "source": [
    "# filter by the column\n",
    "reddit_posts_df[reddit_posts_df[\"num_comments\"]>100][:5]"
   ]
  },
  {
   "cell_type": "code",
   "execution_count": 20,
   "metadata": {},
   "outputs": [
    {
     "data": {
      "text/html": [
       "<div>\n",
       "<style scoped>\n",
       "    .dataframe tbody tr th:only-of-type {\n",
       "        vertical-align: middle;\n",
       "    }\n",
       "\n",
       "    .dataframe tbody tr th {\n",
       "        vertical-align: top;\n",
       "    }\n",
       "\n",
       "    .dataframe thead th {\n",
       "        text-align: right;\n",
       "    }\n",
       "</style>\n",
       "<table border=\"1\" class=\"dataframe\">\n",
       "  <thead>\n",
       "    <tr style=\"text-align: right;\">\n",
       "      <th></th>\n",
       "      <th>created_utc</th>\n",
       "      <th>author</th>\n",
       "      <th>num_comments</th>\n",
       "      <th>ups</th>\n",
       "      <th>downs</th>\n",
       "      <th>title</th>\n",
       "    </tr>\n",
       "  </thead>\n",
       "  <tbody>\n",
       "    <tr>\n",
       "      <td>0</td>\n",
       "      <td>2008-02-01 05:00:30</td>\n",
       "      <td>jimgagnon</td>\n",
       "      <td>0</td>\n",
       "      <td>1</td>\n",
       "      <td>2</td>\n",
       "      <td>New Evidence Emerges in Natalee Holloway Case ...</td>\n",
       "    </tr>\n",
       "    <tr>\n",
       "      <td>1</td>\n",
       "      <td>2008-02-01 05:01:11</td>\n",
       "      <td>tulwave</td>\n",
       "      <td>0</td>\n",
       "      <td>1</td>\n",
       "      <td>1</td>\n",
       "      <td>Britney's Mum Speaks Out About Family Troubles</td>\n",
       "    </tr>\n",
       "    <tr>\n",
       "      <td>2</td>\n",
       "      <td>2008-02-01 05:02:46</td>\n",
       "      <td>orlando37</td>\n",
       "      <td>1</td>\n",
       "      <td>1</td>\n",
       "      <td>1</td>\n",
       "      <td>Get in her pants : Start Manscraping</td>\n",
       "    </tr>\n",
       "    <tr>\n",
       "      <td>3</td>\n",
       "      <td>2008-02-01 05:03:37</td>\n",
       "      <td>rdbb</td>\n",
       "      <td>0</td>\n",
       "      <td>1</td>\n",
       "      <td>0</td>\n",
       "      <td>Worlds Best Taco Shop Style Hot Sauce</td>\n",
       "    </tr>\n",
       "    <tr>\n",
       "      <td>4</td>\n",
       "      <td>2008-02-01 05:03:39</td>\n",
       "      <td>fashiononline</td>\n",
       "      <td>1</td>\n",
       "      <td>1</td>\n",
       "      <td>1</td>\n",
       "      <td>Twinkle Toes Kolhapuri Footwear</td>\n",
       "    </tr>\n",
       "  </tbody>\n",
       "</table>\n",
       "</div>"
      ],
      "text/plain": [
       "          created_utc         author  num_comments  ups  downs  \\\n",
       "0 2008-02-01 05:00:30      jimgagnon             0    1      2   \n",
       "1 2008-02-01 05:01:11        tulwave             0    1      1   \n",
       "2 2008-02-01 05:02:46      orlando37             1    1      1   \n",
       "3 2008-02-01 05:03:37           rdbb             0    1      0   \n",
       "4 2008-02-01 05:03:39  fashiononline             1    1      1   \n",
       "\n",
       "                                               title  \n",
       "0  New Evidence Emerges in Natalee Holloway Case ...  \n",
       "1     Britney's Mum Speaks Out About Family Troubles  \n",
       "2               Get in her pants : Start Manscraping  \n",
       "3              Worlds Best Taco Shop Style Hot Sauce  \n",
       "4                    Twinkle Toes Kolhapuri Footwear  "
      ]
     },
     "execution_count": 20,
     "metadata": {},
     "output_type": "execute_result"
    }
   ],
   "source": [
    "# drop missing values\n",
    "reddit_posts_df.dropna()\n",
    "reddit_posts_df[:5]"
   ]
  },
  {
   "cell_type": "code",
   "execution_count": 21,
   "metadata": {},
   "outputs": [
    {
     "data": {
      "text/html": [
       "<div>\n",
       "<style scoped>\n",
       "    .dataframe tbody tr th:only-of-type {\n",
       "        vertical-align: middle;\n",
       "    }\n",
       "\n",
       "    .dataframe tbody tr th {\n",
       "        vertical-align: top;\n",
       "    }\n",
       "\n",
       "    .dataframe thead th {\n",
       "        text-align: right;\n",
       "    }\n",
       "</style>\n",
       "<table border=\"1\" class=\"dataframe\">\n",
       "  <thead>\n",
       "    <tr style=\"text-align: right;\">\n",
       "      <th></th>\n",
       "      <th>created_utc</th>\n",
       "      <th>author</th>\n",
       "      <th>num_comments</th>\n",
       "      <th>ups</th>\n",
       "      <th>downs</th>\n",
       "      <th>title</th>\n",
       "    </tr>\n",
       "  </thead>\n",
       "  <tbody>\n",
       "    <tr>\n",
       "      <td>0</td>\n",
       "      <td>2008-02-01 05:00:30</td>\n",
       "      <td>jimgagnon</td>\n",
       "      <td>0</td>\n",
       "      <td>1</td>\n",
       "      <td>2</td>\n",
       "      <td>New Evidence Emerges in Natalee Holloway Case ...</td>\n",
       "    </tr>\n",
       "    <tr>\n",
       "      <td>1</td>\n",
       "      <td>2008-02-01 05:01:11</td>\n",
       "      <td>tulwave</td>\n",
       "      <td>0</td>\n",
       "      <td>1</td>\n",
       "      <td>1</td>\n",
       "      <td>Britney's Mum Speaks Out About Family Troubles</td>\n",
       "    </tr>\n",
       "    <tr>\n",
       "      <td>2</td>\n",
       "      <td>2008-02-01 05:02:46</td>\n",
       "      <td>orlando37</td>\n",
       "      <td>1</td>\n",
       "      <td>1</td>\n",
       "      <td>1</td>\n",
       "      <td>Get in her pants : Start Manscraping</td>\n",
       "    </tr>\n",
       "    <tr>\n",
       "      <td>3</td>\n",
       "      <td>2008-02-01 05:03:37</td>\n",
       "      <td>rdbb</td>\n",
       "      <td>0</td>\n",
       "      <td>1</td>\n",
       "      <td>0</td>\n",
       "      <td>Worlds Best Taco Shop Style Hot Sauce</td>\n",
       "    </tr>\n",
       "    <tr>\n",
       "      <td>4</td>\n",
       "      <td>2008-02-01 05:03:39</td>\n",
       "      <td>fashiononline</td>\n",
       "      <td>1</td>\n",
       "      <td>1</td>\n",
       "      <td>1</td>\n",
       "      <td>Twinkle Toes Kolhapuri Footwear</td>\n",
       "    </tr>\n",
       "  </tbody>\n",
       "</table>\n",
       "</div>"
      ],
      "text/plain": [
       "          created_utc         author  num_comments  ups  downs  \\\n",
       "0 2008-02-01 05:00:30      jimgagnon             0    1      2   \n",
       "1 2008-02-01 05:01:11        tulwave             0    1      1   \n",
       "2 2008-02-01 05:02:46      orlando37             1    1      1   \n",
       "3 2008-02-01 05:03:37           rdbb             0    1      0   \n",
       "4 2008-02-01 05:03:39  fashiononline             1    1      1   \n",
       "\n",
       "                                               title  \n",
       "0  New Evidence Emerges in Natalee Holloway Case ...  \n",
       "1     Britney's Mum Speaks Out About Family Troubles  \n",
       "2               Get in her pants : Start Manscraping  \n",
       "3              Worlds Best Taco Shop Style Hot Sauce  \n",
       "4                    Twinkle Toes Kolhapuri Footwear  "
      ]
     },
     "execution_count": 21,
     "metadata": {},
     "output_type": "execute_result"
    }
   ],
   "source": [
    "# drop duplicates\n",
    "reddit_posts_df.drop_duplicates()\n",
    "reddit_posts_df[:5]"
   ]
  },
  {
   "cell_type": "code",
   "execution_count": 22,
   "metadata": {},
   "outputs": [
    {
     "data": {
      "text/html": [
       "<div>\n",
       "<style scoped>\n",
       "    .dataframe tbody tr th:only-of-type {\n",
       "        vertical-align: middle;\n",
       "    }\n",
       "\n",
       "    .dataframe tbody tr th {\n",
       "        vertical-align: top;\n",
       "    }\n",
       "\n",
       "    .dataframe thead th {\n",
       "        text-align: right;\n",
       "    }\n",
       "</style>\n",
       "<table border=\"1\" class=\"dataframe\">\n",
       "  <thead>\n",
       "    <tr style=\"text-align: right;\">\n",
       "      <th></th>\n",
       "      <th>created_utc</th>\n",
       "      <th>author</th>\n",
       "      <th>num_comments</th>\n",
       "      <th>ups</th>\n",
       "      <th>downs</th>\n",
       "      <th>title</th>\n",
       "    </tr>\n",
       "  </thead>\n",
       "  <tbody>\n",
       "    <tr>\n",
       "      <td>121722</td>\n",
       "      <td>2008-03-01 04:59:04</td>\n",
       "      <td>LeonG</td>\n",
       "      <td>0</td>\n",
       "      <td>1</td>\n",
       "      <td>1</td>\n",
       "      <td>Compensation mode = excessive pay</td>\n",
       "    </tr>\n",
       "    <tr>\n",
       "      <td>121723</td>\n",
       "      <td>2008-03-01 04:59:26</td>\n",
       "      <td>sanjana_negi05</td>\n",
       "      <td>0</td>\n",
       "      <td>1</td>\n",
       "      <td>1</td>\n",
       "      <td>Is Sex During Pregnancy Safe?:Sex During Pregn...</td>\n",
       "    </tr>\n",
       "    <tr>\n",
       "      <td>121724</td>\n",
       "      <td>2008-02-02 04:56:20</td>\n",
       "      <td>ppgana</td>\n",
       "      <td>0</td>\n",
       "      <td>3</td>\n",
       "      <td>4</td>\n",
       "      <td>Seven Stills from Rob Zombie's Animated Film</td>\n",
       "    </tr>\n",
       "  </tbody>\n",
       "</table>\n",
       "</div>"
      ],
      "text/plain": [
       "               created_utc          author  num_comments  ups  downs  \\\n",
       "121722 2008-03-01 04:59:04           LeonG             0    1      1   \n",
       "121723 2008-03-01 04:59:26  sanjana_negi05             0    1      1   \n",
       "121724 2008-02-02 04:56:20          ppgana             0    3      4   \n",
       "\n",
       "                                                    title  \n",
       "121722                  Compensation mode = excessive pay  \n",
       "121723  Is Sex During Pregnancy Safe?:Sex During Pregn...  \n",
       "121724       Seven Stills from Rob Zombie's Animated Film  "
      ]
     },
     "execution_count": 22,
     "metadata": {},
     "output_type": "execute_result"
    }
   ],
   "source": [
    "# add a new row to the DataFrame\n",
    "from datetime import datetime\n",
    "\n",
    "new_post = {'created_utc': datetime(2008, 2, 2, 4, 56, 20), \n",
    "            'author': 'ppgana', \n",
    "            'num_comments': 0, 'ups': 3, 'downs': 4, \n",
    "            'title': \"Seven Stills from Rob Zombie's Animated Film\"}\n",
    "\n",
    "reddit_posts_df = reddit_posts_df.append(new_post,ignore_index=True)\n",
    "reddit_posts_df[-3:]"
   ]
  },
  {
   "cell_type": "markdown",
   "metadata": {},
   "source": [
    "Many more filtering and operating with the DataFrames: https://pandas.pydata.org/pandas-docs/stable/reference/index.html\n",
    "\n",
    "Below we show how to iterate over the rows and extract the information from the table. Let us compare the title length and the appreciation of the post."
   ]
  },
  {
   "cell_type": "code",
   "execution_count": 23,
   "metadata": {},
   "outputs": [],
   "source": [
    "appreciation_length_title = []\n",
    "for index, row in reddit_posts_df.iterrows():\n",
    "    appreciation_length_title.append((len(row[\"title\"]), row[\"ups\"]))"
   ]
  },
  {
   "cell_type": "code",
   "execution_count": null,
   "metadata": {},
   "outputs": [],
   "source": [
    "# alternative way (one-liner)\n",
    "appreciation_length_title = [(len(row[\"title\"]), row[\"ups\"]) \n",
    "                             for index, row in reddit_posts_df.iterrows()]"
   ]
  },
  {
   "cell_type": "markdown",
   "metadata": {},
   "source": [
    "# Visualisation"
   ]
  },
  {
   "cell_type": "markdown",
   "metadata": {},
   "source": [
    "Here we consider only the most wide used plotting module: `matplotlib`. There are of course more plotting modules which offer fancier plots : `seaborn`, `bokeh`, `plotly`, etc."
   ]
  },
  {
   "cell_type": "code",
   "execution_count": 25,
   "metadata": {},
   "outputs": [
    {
     "data": {
      "image/png": "[encoded data removed]",
      "text/plain": [
       "<Figure size 432x288 with 1 Axes>"
      ]
     },
     "metadata": {
      "needs_background": "light"
     },
     "output_type": "display_data"
    }
   ],
   "source": [
    "import matplotlib.pyplot as plt\n",
    "\n",
    "plt.scatter(*zip(*appreciation_length_title), marker = \".\")\n",
    "plt.xlabel(\"title length\")\n",
    "plt.ylabel(\"# of up votes\")\n",
    "plt.show()"
   ]
  },
  {
   "cell_type": "markdown",
   "metadata": {},
   "source": [
    "Not really informative. Then, let's try to compare the number of upvotes and downvotes."
   ]
  },
  {
   "cell_type": "code",
   "execution_count": 26,
   "metadata": {
    "scrolled": true
   },
   "outputs": [],
   "source": [
    "downs_ups = [(row[\"downs\"], row[\"ups\"]) for index, row in reddit_posts_df.iterrows()]"
   ]
  },
  {
   "cell_type": "code",
   "execution_count": 27,
   "metadata": {},
   "outputs": [
    {
     "data": {
      "image/png": "[encoded data removed]",
      "text/plain": [
       "<Figure size 432x288 with 1 Axes>"
      ]
     },
     "metadata": {
      "needs_background": "light"
     },
     "output_type": "display_data"
    }
   ],
   "source": [
    "fig = plt.figure(figsize = (6,4))\n",
    "plt.scatter(*zip(*downs_ups), marker = \".\")\n",
    "# plt.xlim([-100,1200])\n",
    "# plt.ylim([-100,1200])\n",
    "plt.xlabel(\"down votes\")\n",
    "plt.ylabel(\"# of up votes\")\n",
    "plt.show()"
   ]
  },
  {
   "cell_type": "markdown",
   "metadata": {},
   "source": [
    "Let us plot a histogram of upvotes."
   ]
  },
  {
   "cell_type": "code",
   "execution_count": 28,
   "metadata": {},
   "outputs": [],
   "source": [
    "_, ups = zip(*downs_ups)"
   ]
  },
  {
   "cell_type": "code",
   "execution_count": 30,
   "metadata": {},
   "outputs": [
    {
     "data": {
      "image/png": "[encoded data removed]",
      "text/plain": [
       "<Figure size 288x216 with 1 Axes>"
      ]
     },
     "metadata": {
      "needs_background": "light"
     },
     "output_type": "display_data"
    }
   ],
   "source": [
    "import numpy as np\n",
    "\n",
    "b_width = 10\n",
    "bins = np.arange(min(ups), max(ups)+b_width, b_width)\n",
    "hist, bins = np.histogram(ups, bins = bins)\n",
    "center_bins = [l+b_width/2 for l in bins[:-1]]\n",
    "\n",
    "fig = plt.figure(figsize=(4,3))\n",
    "plt.plot(center_bins, hist)\n",
    "plt.xlabel(\"# of upvotes\")\n",
    "plt.ylabel(\"Count\")\n",
    "plt.xscale('log')\n",
    "plt.yscale('log')\n",
    "plt.show()"
   ]
  },
  {
   "cell_type": "markdown",
   "metadata": {},
   "source": [
    "Saving the plots is easy:"
   ]
  },
  {
   "cell_type": "code",
   "execution_count": 31,
   "metadata": {},
   "outputs": [],
   "source": [
    "plot_file = \"./histogram.pdf\"\n",
    "fig.savefig(plot_file, facecolor='w', edgecolor='w', format='pdf',\n",
    "        bbox_inches='tight', pad_inches=0)"
   ]
  },
  {
   "cell_type": "markdown",
   "metadata": {},
   "source": [
    "More info on plotting funtions can be found here: https://matplotlib.org/3.1.1/index.html"
   ]
  },
  {
   "cell_type": "markdown",
   "metadata": {},
   "source": [
    "# Import JSON strings"
   ]
  },
  {
   "cell_type": "markdown",
   "metadata": {},
   "source": [
    "Another important data type is JSON string. These strings basically resemble dictionaries. More info : https://docs.python.org/3.7/library/json.html"
   ]
  },
  {
   "cell_type": "code",
   "execution_count": 32,
   "metadata": {},
   "outputs": [
    {
     "data": {
      "text/plain": [
       "dict"
      ]
     },
     "execution_count": 32,
     "metadata": {},
     "output_type": "execute_result"
    }
   ],
   "source": [
    "import json\n",
    "\n",
    "reddit_json_file = \"./data/reddit_chunk.json\"\n",
    "posts = []\n",
    "with open(reddit_json_file, \"r\") as input_f:\n",
    "    for line in input_f:\n",
    "        posts.append(json.loads(line))\n",
    "\n",
    "one_post = posts[-1]\n",
    "type(one_post)"
   ]
  },
  {
   "cell_type": "markdown",
   "metadata": {},
   "source": [
    "One helpful feature from `json` module is the formatted output of the dictionary."
   ]
  },
  {
   "cell_type": "code",
   "execution_count": 33,
   "metadata": {
    "scrolled": true
   },
   "outputs": [
    {
     "name": "stdout",
     "output_type": "stream",
     "text": [
      "{\n",
      "  \"approved_by\": null,\n",
      "  \"author\": \"drazhardaud\",\n",
      "  \"author_flair_css_class\": null,\n",
      "  \"author_flair_text\": null,\n",
      "  \"banned_by\": null,\n",
      "  \"clicked\": false,\n",
      "  \"created\": 1201927796,\n",
      "  \"created_utc\": 1201927796,\n",
      "  \"distinguished\": null,\n",
      "  \"domain\": \"geniusiq-drazhardaud.blogspot.com\",\n",
      "  \"downs\": 1,\n",
      "  \"edited\": false,\n",
      "  \"hidden\": false,\n",
      "  \"id\": \"67fb2\",\n",
      "  \"is_self\": false,\n",
      "  \"likes\": null,\n",
      "  \"link_flair_css_class\": null,\n",
      "  \"link_flair_text\": null,\n",
      "  \"media\": null,\n",
      "  \"media_embed\": {},\n",
      "  \"name\": \"t3_67fb2\",\n",
      "  \"num_comments\": 0,\n",
      "  \"num_reports\": null,\n",
      "  \"over_18\": false,\n",
      "  \"permalink\": \"/r/reddit.com/comments/67fb2/genius_iq_genius_iq_genius_iq_genius_iq_in/\",\n",
      "  \"saved\": false,\n",
      "  \"score\": 0,\n",
      "  \"selftext\": \"\",\n",
      "  \"selftext_html\": null,\n",
      "  \"subreddit\": \"reddit.com\",\n",
      "  \"subreddit_id\": \"t5_6\",\n",
      "  \"thumbnail\": \"default\",\n",
      "  \"title\": \"Genius IQ Genius IQ Genius IQ: Genius IQ in Believing Is Seeing\",\n",
      "  \"ups\": 1,\n",
      "  \"url\": \"http://geniusiq-drazhardaud.blogspot.com/2008/02/genius-iq-in-believing-is-seeing.html\"\n",
      "}\n"
     ]
    }
   ],
   "source": [
    "print(json.dumps(one_post, indent = 2, sort_keys = True))"
   ]
  },
  {
   "cell_type": "markdown",
   "metadata": {},
   "source": [
    "***"
   ]
  },
  {
   "cell_type": "markdown",
   "metadata": {},
   "source": [
    "# Networks\n",
    "\n",
    "We glance over the `networkx` module : https://networkx.github.io/documentation/stable/. This module is the easiest and very powerful when working with not too large networks. Of course, there exist other modules for manipulation with networks: `igraph` https://igraph.org/python/, `graph-tool` https://graph-tool.skewed.de/, etc."
   ]
  },
  {
   "cell_type": "code",
   "execution_count": 34,
   "metadata": {},
   "outputs": [],
   "source": [
    "# Networks : networkx - what is a graph (internal representation), access nodes, edges, properties, algorithms\n",
    "import networkx as nx"
   ]
  },
  {
   "cell_type": "markdown",
   "metadata": {},
   "source": [
    "Define a network"
   ]
  },
  {
   "cell_type": "code",
   "execution_count": 35,
   "metadata": {},
   "outputs": [],
   "source": [
    "G = nx.Graph()"
   ]
  },
  {
   "cell_type": "markdown",
   "metadata": {},
   "source": [
    "Add nodes and edges:"
   ]
  },
  {
   "cell_type": "code",
   "execution_count": 36,
   "metadata": {},
   "outputs": [],
   "source": [
    "G.add_node(1, size = 1)\n",
    "G.add_nodes_from([2,3,4], size = [2,3,4])\n",
    "\n",
    "G.add_edge(1,2, weight = 1)\n",
    "G.add_edges_from([(2,3), (2,4), (1,4)], weight = [2,3,4])"
   ]
  },
  {
   "cell_type": "markdown",
   "metadata": {},
   "source": [
    "Show the information about the graph:"
   ]
  },
  {
   "cell_type": "code",
   "execution_count": 37,
   "metadata": {},
   "outputs": [
    {
     "name": "stdout",
     "output_type": "stream",
     "text": [
      "Name: \n",
      "Type: Graph\n",
      "Number of nodes: 4\n",
      "Number of edges: 4\n",
      "Average degree:   2.0000\n"
     ]
    }
   ],
   "source": [
    "print(nx.info(G))"
   ]
  },
  {
   "cell_type": "markdown",
   "metadata": {},
   "source": [
    "Access node and edge attributes:"
   ]
  },
  {
   "cell_type": "code",
   "execution_count": 38,
   "metadata": {},
   "outputs": [
    {
     "name": "stdout",
     "output_type": "stream",
     "text": [
      "node size: 1\n",
      "edge weight: 1\n"
     ]
    }
   ],
   "source": [
    "print(\"node size:\", G.node[1][\"size\"])\n",
    "print(\"edge weight:\", G[1][2][\"weight\"])"
   ]
  },
  {
   "cell_type": "markdown",
   "metadata": {},
   "source": [
    "Iterate over the nodes and edges:"
   ]
  },
  {
   "cell_type": "code",
   "execution_count": 39,
   "metadata": {},
   "outputs": [
    {
     "name": "stdout",
     "output_type": "stream",
     "text": [
      "1 2 3 4 \n",
      "------\n",
      "1-2 --> 1-4 --> 2-3 --> 2-4 --> "
     ]
    }
   ],
   "source": [
    "# nodes\n",
    "for u in G.nodes():\n",
    "    print(u, end = \" \")\n",
    "print(\"\\n------\")\n",
    "# edges\n",
    "for u,v in G.edges():\n",
    "    print(\"{}-{}\".format(u,v), end=\" --> \")"
   ]
  },
  {
   "cell_type": "markdown",
   "metadata": {},
   "source": [
    "Remove nodes and edges from a graph"
   ]
  },
  {
   "cell_type": "code",
   "execution_count": 40,
   "metadata": {},
   "outputs": [
    {
     "name": "stdout",
     "output_type": "stream",
     "text": [
      "Name: \n",
      "Type: Graph\n",
      "Number of nodes: 4\n",
      "Number of edges: 3\n",
      "Average degree:   1.5000\n",
      "-------------------------\n",
      "Name: \n",
      "Type: Graph\n",
      "Number of nodes: 2\n",
      "Number of edges: 0\n",
      "Average degree:   0.0000\n"
     ]
    }
   ],
   "source": [
    "edges_to_remove = [(1,2), (3,4)]\n",
    "G.remove_edges_from(edges_to_remove)\n",
    "print(nx.info(G))\n",
    "print(\"-------------------------\")\n",
    "nodes_to_remove = [1,2]\n",
    "G.remove_nodes_from(nodes_to_remove)\n",
    "print(nx.info(G))"
   ]
  },
  {
   "cell_type": "markdown",
   "metadata": {},
   "source": [
    "## Fancy networks"
   ]
  },
  {
   "cell_type": "markdown",
   "metadata": {},
   "source": [
    "There are one liners for generating networks from various models."
   ]
  },
  {
   "cell_type": "code",
   "execution_count": 43,
   "metadata": {},
   "outputs": [
    {
     "name": "stdout",
     "output_type": "stream",
     "text": [
      "Name: \n",
      "Type: Graph\n",
      "Number of nodes: 100\n",
      "Number of edges: 238\n",
      "Average degree:   4.7600\n"
     ]
    }
   ],
   "source": [
    "ER = nx.erdos_renyi_graph(100, 0.05)\n",
    "print(nx.info(ER))"
   ]
  },
  {
   "cell_type": "markdown",
   "metadata": {},
   "source": [
    "Draw network"
   ]
  },
  {
   "cell_type": "code",
   "execution_count": 44,
   "metadata": {},
   "outputs": [
    {
     "data": {
      "image/png": "[encoded data removed]",
      "text/plain": [
       "<Figure size 432x288 with 1 Axes>"
      ]
     },
     "metadata": {},
     "output_type": "display_data"
    }
   ],
   "source": [
    "import warnings\n",
    "warnings.filterwarnings(\"ignore\")\n",
    "\n",
    "g_draw = ER\n",
    "\n",
    "fig = plt.figure(figsize=(6,4))\n",
    "\n",
    "pos = nx.spring_layout(g_draw)\n",
    "nx.draw(g_draw, pos, node_color='black', node_size=10, width=0.5)\n",
    "plt.show()\n",
    "\n",
    "# plot_file = \"./graph_file.pdf\"\n",
    "# fig.savefig(plot_file, facecolor='w', edgecolor='w', format='pdf',\n",
    "#         bbox_inches='tight', pad_inches=0)"
   ]
  },
  {
   "cell_type": "code",
   "execution_count": 45,
   "metadata": {},
   "outputs": [
    {
     "data": {
      "image/png": "[encoded data removed]",
      "text/plain": [
       "<Figure size 432x288 with 1 Axes>"
      ]
     },
     "metadata": {},
     "output_type": "display_data"
    }
   ],
   "source": [
    "g_draw = nx.barbell_graph(20, 1)\n",
    "\n",
    "fig = plt.figure(figsize=(6,4))\n",
    "pos = nx.spring_layout(g_draw)\n",
    "nx.draw(g_draw, pos, node_color='black', node_size=10, width=0.5)\n",
    "plt.show()"
   ]
  },
  {
   "cell_type": "markdown",
   "metadata": {},
   "source": [
    "Predefined algorithms for network analysis:"
   ]
  },
  {
   "cell_type": "code",
   "execution_count": 46,
   "metadata": {
    "scrolled": true
   },
   "outputs": [],
   "source": [
    "n = 10000\n",
    "ER = nx.erdos_renyi_graph(n, 2/n)\n",
    "# print(\"Sizes of connected components:\", [len(x) for x in list(nx.connected_components(ER))])"
   ]
  },
  {
   "cell_type": "code",
   "execution_count": 47,
   "metadata": {},
   "outputs": [
    {
     "data": {
      "image/png": "[encoded data removed]",
      "text/plain": [
       "<Figure size 288x216 with 1 Axes>"
      ]
     },
     "metadata": {
      "needs_background": "light"
     },
     "output_type": "display_data"
    }
   ],
   "source": [
    "degrees = [ER.degree(u) for u in ER.nodes()]\n",
    "\n",
    "b_width = 1\n",
    "bins = np.arange(min(degrees), max(degrees)+b_width, b_width)\n",
    "hist, bins = np.histogram(degrees, bins = bins)\n",
    "center_bins = [l+b_width/2 for l in bins[:-1]]\n",
    "\n",
    "fig = plt.figure(figsize=(4,3))\n",
    "plt.plot(center_bins, hist, marker = \"o\")\n",
    "plt.xlabel(\"Degree\")\n",
    "plt.ylabel(\"Count\")\n",
    "plt.title(\"Degree distribution\")\n",
    "# plt.xscale('log')\n",
    "# plt.yscale('log')\n",
    "plt.show()"
   ]
  },
  {
   "cell_type": "markdown",
   "metadata": {},
   "source": [
    "More info in the documentation: https://networkx.github.io/documentation/stable/reference/index.html"
   ]
  },
  {
   "cell_type": "code",
   "execution_count": null,
   "metadata": {},
   "outputs": [],
   "source": []
  }
 ],
 "metadata": {
  "kernelspec": {
   "display_name": "Python 3",
   "language": "python",
   "name": "python3"
  },
  "language_info": {
   "codemirror_mode": {
    "name": "ipython",
    "version": 3
   },
   "file_extension": ".py",
   "mimetype": "text/x-python",
   "name": "python",
   "nbconvert_exporter": "python",
   "pygments_lexer": "ipython3",
   "version": "3.7.4"
  }
 },
 "nbformat": 4,
 "nbformat_minor": 2
}
