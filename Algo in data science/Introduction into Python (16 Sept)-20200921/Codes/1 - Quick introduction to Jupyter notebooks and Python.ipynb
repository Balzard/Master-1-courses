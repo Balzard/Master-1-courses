{
 "cells": [
  {
   "cell_type": "markdown",
   "metadata": {},
   "source": [
    "# Quick introduction to Jupyter notebooks"
   ]
  },
  {
   "cell_type": "markdown",
   "metadata": {},
   "source": [
    "Here I present the essential materials which will help those who are newbies to Python and Jupyter Notebooks. First of all I quickly present the structure of the Jupyter notebook framework. Additional information can be found, for example, here https://realpython.com/jupyter-notebook-introduction/ or just google it.\n",
    "\n",
    "All code is defined and executed within **cells**."
   ]
  },
  {
   "cell_type": "code",
   "execution_count": 1,
   "metadata": {},
   "outputs": [
    {
     "data": {
      "text/plain": [
       "4"
      ]
     },
     "execution_count": 1,
     "metadata": {},
     "output_type": "execute_result"
    }
   ],
   "source": [
    "2+2"
   ]
  },
  {
   "cell_type": "code",
   "execution_count": 3,
   "metadata": {},
   "outputs": [],
   "source": [
    "a = 2+2\n",
    "# print(a)"
   ]
  },
  {
   "cell_type": "code",
   "execution_count": null,
   "metadata": {},
   "outputs": [],
   "source": [
    "# comment text"
   ]
  },
  {
   "cell_type": "markdown",
   "metadata": {},
   "source": [
    "There are so-called *markdown cells* which are used to logically structure the code and for better presentation of the code results to the stakeholders. These cells contain only static text. Markdown cells use the *markdown syntax* to format text. Below you find some examples of this language. Official docs here https://jupyter-notebook.readthedocs.io/en/stable/examples/Notebook/Working%20With%20Markdown%20Cells.html"
   ]
  },
  {
   "cell_type": "markdown",
   "metadata": {},
   "source": [
    "# HEADING\n",
    "## Heading\n",
    "### heading\n",
    "*italics text*\n",
    "\n",
    "**bold text**\n",
    "\n",
    "`print(2+2) # code snippet`\n",
    "\n",
    "$e^x = \\sum\\frac{x^n}{n!}$ - Latex formula\n",
    "\n",
    "List:\n",
    "1. Item1\n",
    "2. Item2"
   ]
  },
  {
   "cell_type": "markdown",
   "metadata": {},
   "source": [
    "#### Tips : Many more data types\n",
    "More on markdown language in simple words: https://medium.com/ibm-data-science-experience/markdown-for-jupyter-notebooks-cheatsheet-386c05aeebed"
   ]
  },
  {
   "cell_type": "markdown",
   "metadata": {},
   "source": [
    "***"
   ]
  },
  {
   "cell_type": "markdown",
   "metadata": {},
   "source": [
    "# Python language"
   ]
  },
  {
   "cell_type": "markdown",
   "metadata": {},
   "source": [
    "When we know the basics of programming framework, we can turn to the basics of Python programming. Detailed course for beginners here https://pythonbasics.org/ or just google it."
   ]
  },
  {
   "cell_type": "markdown",
   "metadata": {},
   "source": [
    "## Data types"
   ]
  },
  {
   "cell_type": "code",
   "execution_count": 4,
   "metadata": {},
   "outputs": [],
   "source": [
    "n = 1                         #  integer\n",
    "f = 12.0004                   #  float\n",
    "s = \"Bonjour!\"                #  string\n",
    "l = [1,2,1,3,1,4]             #  list\n",
    "t = (1,2,1,3,1,4)             #  tuple\n",
    "st = set([1,2,1,3,1,4])       #  set\n",
    "fst = frozenset([1,2,3])      #  frozenset\n",
    "d = {\"Bonjour!\": \"Hallo!\"}     #  dictionary"
   ]
  },
  {
   "cell_type": "markdown",
   "metadata": {},
   "source": [
    "There are certain important differences between the data types one should remember. \n",
    "\n",
    "List is an ordered collection of elements. "
   ]
  },
  {
   "cell_type": "code",
   "execution_count": 5,
   "metadata": {},
   "outputs": [
    {
     "name": "stdout",
     "output_type": "stream",
     "text": [
      "Original list: [1, 2, 1, 3, 1, 4]\n",
      "Sorted list:   [1, 1, 1, 2, 3, 4]\n"
     ]
    }
   ],
   "source": [
    "print(\"Original list:\", l)\n",
    "sorted_l = sorted(l)\n",
    "print(\"Sorted list:  \", sorted_l)"
   ]
  },
  {
   "cell_type": "markdown",
   "metadata": {},
   "source": [
    "Set is an **unordered** collection of **distinct** elements. Unable to sort, similar items will collapse into one item."
   ]
  },
  {
   "cell_type": "code",
   "execution_count": 6,
   "metadata": {},
   "outputs": [
    {
     "name": "stdout",
     "output_type": "stream",
     "text": [
      "{1, 2, 3, 4}\n"
     ]
    }
   ],
   "source": [
    "st = set([1, 2, 1, 3, 1, 4])       #  set\n",
    "print(st)"
   ]
  },
  {
   "cell_type": "markdown",
   "metadata": {},
   "source": [
    "Dictionary contains pairs **{key: value}**. Values can be anything, keys can be only *hashable* types (that are immutable, in general terms that cannot change). \n",
    "\n",
    "For example, `string` is *hashable*, `list` is *unhashable*."
   ]
  },
  {
   "cell_type": "code",
   "execution_count": 7,
   "metadata": {},
   "outputs": [],
   "source": [
    "d = {\"Bonjour!\": \"Hallo!\"}     #  dictionary"
   ]
  },
  {
   "cell_type": "code",
   "execution_count": 8,
   "metadata": {
    "scrolled": true
   },
   "outputs": [
    {
     "ename": "TypeError",
     "evalue": "unhashable type: 'list'",
     "output_type": "error",
     "traceback": [
      "\u001b[0;31m---------------------------------------------------------------------------\u001b[0m",
      "\u001b[0;31mTypeError\u001b[0m                                 Traceback (most recent call last)",
      "\u001b[0;32m<ipython-input-8-6e6d87cebc96>\u001b[0m in \u001b[0;36m<module>\u001b[0;34m\u001b[0m\n\u001b[0;32m----> 1\u001b[0;31m \u001b[0md\u001b[0m \u001b[0;34m=\u001b[0m \u001b[0;34m{\u001b[0m\u001b[0;34m[\u001b[0m\u001b[0;34m\"Eins\"\u001b[0m\u001b[0;34m,\u001b[0m\u001b[0;34m\"Zwei\"\u001b[0m\u001b[0;34m]\u001b[0m\u001b[0;34m:\u001b[0m \u001b[0;34m\"Polizei\"\u001b[0m\u001b[0;34m}\u001b[0m     \u001b[0;31m#  dictionary\u001b[0m\u001b[0;34m\u001b[0m\u001b[0;34m\u001b[0m\u001b[0m\n\u001b[0m",
      "\u001b[0;31mTypeError\u001b[0m: unhashable type: 'list'"
     ]
    }
   ],
   "source": [
    "d = {[\"Eins\",\"Zwei\"]: \"Polizei\"}     #  dictionary\n"
   ]
  },
  {
   "cell_type": "code",
   "execution_count": null,
   "metadata": {},
   "outputs": [],
   "source": [
    "d = {(\"Eins\",\"Zwei\"): \"Polizei\"}     #  dictionary"
   ]
  },
  {
   "cell_type": "markdown",
   "metadata": {},
   "source": [
    "Tuples are hashable equivalent of lists. Disadvantage: one cannot add, remove or change items there. "
   ]
  },
  {
   "cell_type": "code",
   "execution_count": 9,
   "metadata": {},
   "outputs": [
    {
     "ename": "TypeError",
     "evalue": "'tuple' object does not support item assignment",
     "output_type": "error",
     "traceback": [
      "\u001b[0;31m---------------------------------------------------------------------------\u001b[0m",
      "\u001b[0;31mTypeError\u001b[0m                                 Traceback (most recent call last)",
      "\u001b[0;32m<ipython-input-9-80cd006407a0>\u001b[0m in \u001b[0;36m<module>\u001b[0;34m\u001b[0m\n\u001b[1;32m      1\u001b[0m \u001b[0mt\u001b[0m \u001b[0;34m=\u001b[0m \u001b[0;34m(\u001b[0m\u001b[0;36m1\u001b[0m\u001b[0;34m,\u001b[0m\u001b[0;36m2\u001b[0m\u001b[0;34m,\u001b[0m\u001b[0;36m1\u001b[0m\u001b[0;34m,\u001b[0m\u001b[0;36m3\u001b[0m\u001b[0;34m,\u001b[0m\u001b[0;36m1\u001b[0m\u001b[0;34m,\u001b[0m\u001b[0;36m4\u001b[0m\u001b[0;34m)\u001b[0m             \u001b[0;31m#  tuple\u001b[0m\u001b[0;34m\u001b[0m\u001b[0;34m\u001b[0m\u001b[0m\n\u001b[0;32m----> 2\u001b[0;31m \u001b[0mt\u001b[0m\u001b[0;34m[\u001b[0m\u001b[0;36m1\u001b[0m\u001b[0;34m]\u001b[0m \u001b[0;34m=\u001b[0m \u001b[0;36m5\u001b[0m\u001b[0;34m\u001b[0m\u001b[0;34m\u001b[0m\u001b[0m\n\u001b[0m",
      "\u001b[0;31mTypeError\u001b[0m: 'tuple' object does not support item assignment"
     ]
    }
   ],
   "source": [
    "t = (1,2,1,3,1,4)             #  tuple\n",
    "t[1] = 5"
   ]
  },
  {
   "cell_type": "markdown",
   "metadata": {},
   "source": [
    "Frozensets are hashable equivalent of lists. Disadvantage: same story here."
   ]
  },
  {
   "cell_type": "code",
   "execution_count": 10,
   "metadata": {},
   "outputs": [
    {
     "ename": "AttributeError",
     "evalue": "'frozenset' object has no attribute 'add'",
     "output_type": "error",
     "traceback": [
      "\u001b[0;31m---------------------------------------------------------------------------\u001b[0m",
      "\u001b[0;31mAttributeError\u001b[0m                            Traceback (most recent call last)",
      "\u001b[0;32m<ipython-input-10-8bdbbc5607a5>\u001b[0m in \u001b[0;36m<module>\u001b[0;34m\u001b[0m\n\u001b[1;32m      1\u001b[0m \u001b[0mfst\u001b[0m \u001b[0;34m=\u001b[0m \u001b[0mfrozenset\u001b[0m\u001b[0;34m(\u001b[0m\u001b[0;34m[\u001b[0m\u001b[0;36m1\u001b[0m\u001b[0;34m,\u001b[0m\u001b[0;36m2\u001b[0m\u001b[0;34m,\u001b[0m\u001b[0;36m3\u001b[0m\u001b[0;34m]\u001b[0m\u001b[0;34m)\u001b[0m      \u001b[0;31m#  frozenset\u001b[0m\u001b[0;34m\u001b[0m\u001b[0;34m\u001b[0m\u001b[0m\n\u001b[0;32m----> 2\u001b[0;31m \u001b[0mfst\u001b[0m\u001b[0;34m.\u001b[0m\u001b[0madd\u001b[0m\u001b[0;34m(\u001b[0m\u001b[0;36m4\u001b[0m\u001b[0;34m)\u001b[0m\u001b[0;34m\u001b[0m\u001b[0;34m\u001b[0m\u001b[0m\n\u001b[0m",
      "\u001b[0;31mAttributeError\u001b[0m: 'frozenset' object has no attribute 'add'"
     ]
    }
   ],
   "source": [
    "fst = frozenset([1,2,3])      #  frozenset\n",
    "fst.add(4)"
   ]
  },
  {
   "cell_type": "markdown",
   "metadata": {},
   "source": [
    "#### Tips : Many more data types\n",
    "\n",
    "Check out the module `collections` (https://docs.python.org/3.7/library/collections.html) for other sophisticated data types"
   ]
  },
  {
   "cell_type": "markdown",
   "metadata": {},
   "source": [
    "***"
   ]
  },
  {
   "cell_type": "markdown",
   "metadata": {},
   "source": [
    "## Essential methods with data types"
   ]
  },
  {
   "cell_type": "markdown",
   "metadata": {},
   "source": [
    "Lists (https://docs.python.org/3/tutorial/datastructures.html#more-on-lists)"
   ]
  },
  {
   "cell_type": "code",
   "execution_count": 11,
   "metadata": {},
   "outputs": [
    {
     "name": "stdout",
     "output_type": "stream",
     "text": [
      "[1, 2, 1, 3, 1, 4, 5]\n",
      "[1, 1, 3, 1, 4, 5]\n"
     ]
    }
   ],
   "source": [
    "l = [1,2,1,3,1,4]             #  list\n",
    "\n",
    "# add element\n",
    "l.append(5)\n",
    "print(l)\n",
    "\n",
    "# delete element at position 1\n",
    "l.pop(1)\n",
    "print(l)"
   ]
  },
  {
   "cell_type": "markdown",
   "metadata": {},
   "source": [
    "Sets (https://docs.python.org/3.7/library/stdtypes.html#set-types-set-frozenset):"
   ]
  },
  {
   "cell_type": "code",
   "execution_count": 12,
   "metadata": {},
   "outputs": [
    {
     "name": "stdout",
     "output_type": "stream",
     "text": [
      "{1, 2, 3, 4, 5}\n",
      "{1, 2, 3, 4, 5}\n",
      "{2, 3, 4, 5}\n"
     ]
    }
   ],
   "source": [
    "st = set([1, 2, 1, 3, 1, 4])       #  set\n",
    "\n",
    "# add element \n",
    "st.add(5)\n",
    "print(st)\n",
    "\n",
    "st.add(1)\n",
    "print(st)\n",
    "\n",
    "# delete element\n",
    "st.remove(1)\n",
    "print(st)"
   ]
  },
  {
   "cell_type": "markdown",
   "metadata": {},
   "source": [
    "Dicts (https://docs.python.org/3/tutorial/datastructures.html#dictionaries)"
   ]
  },
  {
   "cell_type": "code",
   "execution_count": 13,
   "metadata": {},
   "outputs": [
    {
     "name": "stdout",
     "output_type": "stream",
     "text": [
      "{'Bonjour': 'Hallo', 'Au revoir': 'Tot ziens'}\n",
      "{'Au revoir': 'Tot ziens'}\n"
     ]
    }
   ],
   "source": [
    "d = {\"Bonjour\": \"Hallo\"}     #  dictionary\n",
    "\n",
    "# add elements\n",
    "d[\"Au revoir\"] = \"Tot ziens\"\n",
    "print(d)\n",
    "\n",
    "# remove elements\n",
    "del d[\"Bonjour\"]\n",
    "print(d)"
   ]
  },
  {
   "cell_type": "markdown",
   "metadata": {},
   "source": [
    "Type conversion "
   ]
  },
  {
   "cell_type": "code",
   "execution_count": 14,
   "metadata": {},
   "outputs": [
    {
     "name": "stdout",
     "output_type": "stream",
     "text": [
      "1234 <class 'int'>\n",
      "1234.0 <class 'float'>\n",
      "1234 <class 'str'>\n",
      "['1', '2', '3', '4'] <class 'list'>\n"
     ]
    }
   ],
   "source": [
    "n = 1234\n",
    "print(n, type(n))\n",
    "\n",
    "f = float(n)\n",
    "print(f, type(f))\n",
    "\n",
    "s = str(n)\n",
    "print(s, type(s))\n",
    "\n",
    "l = list(s)\n",
    "print(l, type(l))"
   ]
  },
  {
   "cell_type": "markdown",
   "metadata": {},
   "source": [
    "***"
   ]
  },
  {
   "cell_type": "markdown",
   "metadata": {},
   "source": [
    "## Expressions for loops"
   ]
  },
  {
   "cell_type": "code",
   "execution_count": 15,
   "metadata": {},
   "outputs": [
    {
     "name": "stdout",
     "output_type": "stream",
     "text": [
      "0 1 2 3 4 "
     ]
    }
   ],
   "source": [
    "for i in range(0,5):\n",
    "    print(i, end = \" \")"
   ]
  },
  {
   "cell_type": "code",
   "execution_count": 16,
   "metadata": {},
   "outputs": [
    {
     "name": "stdout",
     "output_type": "stream",
     "text": [
      "['A'] ['B', 'C'] ['D'] "
     ]
    }
   ],
   "source": [
    "list_to_go_through = [[\"A\"],[\"B\",\"C\"],[\"D\"]]\n",
    "for s in list_to_go_through:\n",
    "    print(s, end = \" \")"
   ]
  },
  {
   "cell_type": "code",
   "execution_count": 17,
   "metadata": {},
   "outputs": [
    {
     "name": "stdout",
     "output_type": "stream",
     "text": [
      "0 1 2 3 4 "
     ]
    }
   ],
   "source": [
    "count = 0\n",
    "while count < 5:\n",
    "    print(count, end = \" \")\n",
    "    count += 1"
   ]
  },
  {
   "cell_type": "markdown",
   "metadata": {},
   "source": [
    "Fancy loop expressions:"
   ]
  },
  {
   "cell_type": "code",
   "execution_count": 18,
   "metadata": {},
   "outputs": [
    {
     "name": "stdout",
     "output_type": "stream",
     "text": [
      "0 - ['A'] | 1 - ['B', 'C'] | 2 - ['D'] | "
     ]
    }
   ],
   "source": [
    "# enumerate\n",
    "for index, value in enumerate(list_to_go_through):\n",
    "    print(index,\"-\", value, end = \" | \")"
   ]
  },
  {
   "cell_type": "code",
   "execution_count": 19,
   "metadata": {},
   "outputs": [
    {
     "name": "stdout",
     "output_type": "stream",
     "text": [
      "(0,1) --> (1,2) --> (2,3) --> (3,4) --> "
     ]
    }
   ],
   "source": [
    "# go through the list by consecutive pairs\n",
    "int_range = list(range(0,5))\n",
    "for i1,i2 in zip(int_range, int_range[1:]):\n",
    "    print(\"({},{})\".format(i1,i2), end = \" --> \")"
   ]
  },
  {
   "cell_type": "markdown",
   "metadata": {},
   "source": [
    "Many more ways to construct a for loop can be fould in module `itertools`:"
   ]
  },
  {
   "cell_type": "code",
   "execution_count": null,
   "metadata": {},
   "outputs": [],
   "source": [
    "# combinations without repetition\n",
    "import itertools\n",
    "\n",
    "for i1, i2 in itertools.combinations(int_range, 2):\n",
    "    print(\"({},{})\".format(i1,i2), end = \" \")"
   ]
  },
  {
   "cell_type": "markdown",
   "metadata": {},
   "source": [
    "***"
   ]
  },
  {
   "cell_type": "markdown",
   "metadata": {},
   "source": [
    "# Python modules "
   ]
  },
  {
   "cell_type": "markdown",
   "metadata": {},
   "source": [
    "You can import external modules with predefined functions that allow you to extend your tool set from standard arithmetics. Examples of so-called *default* modules are: `numpy`, `scipy`, `networkx`, `matplotlib.pyplot`, etc.\n",
    "\n",
    "More info on packages:\n",
    "- `numpy` : http://cs231n.github.io/python-numpy-tutorial/, https://numpy.org;\n",
    "- `scipy` : https://scipy-lectures.org/, https://www.scipy.org;\n",
    "- `matplotlib` : https://towardsdatascience.com/matplotlib-tutorial-learn-basics-of-pythons-powerful-plotting-library-b5d1b8f67596,  https://matplotlib.org\n",
    "- `networkx` : https://networkx.github.io/documentation/stable/\n",
    "\n",
    "Importing:"
   ]
  },
  {
   "cell_type": "code",
   "execution_count": 20,
   "metadata": {},
   "outputs": [],
   "source": [
    "import scipy\n",
    "import numpy as np\n",
    "from matplotlib import pyplot as plt"
   ]
  },
  {
   "cell_type": "markdown",
   "metadata": {},
   "source": [
    "Installing new packages: \n",
    "- find a required package on https://anaconda.org/conda-forge;\n",
    "- open **Terminal** (from the File view of Jupyter, click \"New\" -> \"Terminal\")\n",
    "- type the line from conda-forge that starts with `conda install -c conda-forge ...` \n",
    "\n",
    "ex: `conda install -c conda-forge networkx`"
   ]
  },
  {
   "cell_type": "markdown",
   "metadata": {},
   "source": [
    "Alternative way would be to use the PIP package repository: `pip install ...`\n",
    "\n",
    "ex: `pip install networkx`"
   ]
  },
  {
   "cell_type": "markdown",
   "metadata": {},
   "source": [
    "# Export notebooks as .html, .pdf, etc"
   ]
  },
  {
   "cell_type": "code",
   "execution_count": null,
   "metadata": {},
   "outputs": [],
   "source": [
    "a = \"1 2 3 4\""
   ]
  },
  {
   "cell_type": "code",
   "execution_count": null,
   "metadata": {},
   "outputs": [],
   "source": [
    "list_a = a.split(' ')\n",
    "list_a"
   ]
  },
  {
   "cell_type": "code",
   "execution_count": null,
   "metadata": {},
   "outputs": [],
   "source": [
    "int_list_a = [int(x) for x in list_a]\n",
    "int_list_a"
   ]
  },
  {
   "cell_type": "code",
   "execution_count": null,
   "metadata": {},
   "outputs": [],
   "source": [
    "for index, x in enumerate(list_a):\n",
    "    print(index, x)"
   ]
  },
  {
   "cell_type": "code",
   "execution_count": null,
   "metadata": {},
   "outputs": [],
   "source": []
  }
 ],
 "metadata": {
  "kernelspec": {
   "display_name": "Python 3",
   "language": "python",
   "name": "python3"
  },
  "language_info": {
   "codemirror_mode": {
    "name": "ipython",
    "version": 3
   },
   "file_extension": ".py",
   "mimetype": "text/x-python",
   "name": "python",
   "nbconvert_exporter": "python",
   "pygments_lexer": "ipython3",
   "version": "3.7.4"
  }
 },
 "nbformat": 4,
 "nbformat_minor": 2
}
